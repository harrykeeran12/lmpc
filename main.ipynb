{
 "cells": [
  {
   "cell_type": "markdown",
   "metadata": {},
   "source": [
    "To run this project, `ollama` must be installed. This is a package that allows for LLM usage, easily. \n",
    "\n",
    "The `ollama` server can be run using `ollama serve`, for testing purposes. "
   ]
  },
  {
   "cell_type": "code",
   "execution_count": 42,
   "metadata": {},
   "outputs": [
    {
     "name": "stdout",
     "output_type": "stream",
     "text": [
      "Installed models on local ollama instance:\n",
      "phi3:mini\n"
     ]
    }
   ],
   "source": [
    "import ollama\n",
    "# Check if models are installed or not.\n",
    "try:\n",
    "    print(\"Installed models on local ollama instance:\")\n",
    "    # print(ollama.list())\n",
    "    for modelName in ollama.list()[\"models\"]:\n",
    "        print(modelName[\"name\"])\n",
    "except:\n",
    "    raise Exception(\"ollama server is not online. \\nUse ollama serve to run the ollama daemon.\")"
   ]
  },
  {
   "cell_type": "markdown",
   "metadata": {},
   "source": [
    "Papers generated use any notes included in the `NOTEFILE`. "
   ]
  },
  {
   "cell_type": "code",
   "execution_count": 43,
   "metadata": {},
   "outputs": [
    {
     "data": {
      "text/plain": [
       "' If true, then questions can be divided into a,b,c or i, ii, iii.\\n    Question subdivision support can be added later. \\n'"
      ]
     },
     "execution_count": 43,
     "metadata": {},
     "output_type": "execute_result"
    }
   ],
   "source": [
    "\"\"\"Check defaults and make sure there are no exceptions. \"\"\"\n",
    "\n",
    "MODELNAME = \"phi3:mini\"\n",
    "\n",
    "NOTEFILE = \"notes.txt\"\n",
    "\n",
    "try:\n",
    "    with open(NOTEFILE, \"r\") as my_file:\n",
    "        NOTES = \"\".join(my_file.readlines())\n",
    "except OSError:\n",
    "    raise Exception(f\"Could not find {NOTEFILE}.\")\n",
    "\n",
    "\n",
    "QUESTIONNUMBER = 5\n",
    "\n",
    "if QUESTIONNUMBER > 5 or QUESTIONNUMBER < 2:\n",
    "    raise Exception(\"Question amount not suitable.\")\n",
    "\n",
    "TOTALMARKS = 100\n",
    "\n",
    "if TOTALMARKS // QUESTIONNUMBER < 1:\n",
    "    raise Exception(\"Number of marks is too low.\")\n",
    "\n",
    "QUESTIONTYPE = \"mcq\"\n",
    "\"\"\" This can differ between short, long and mcq.\"\"\"\n",
    "\n",
    "# try:\n",
    "#     with open(\"exampleQuestions.txt\", \"r\") as QUESTIONSFILE:\n",
    "#         EXAMPLEQUESTIONS = \"\".join(QUESTIONSFILE.readlines())\n",
    "# except OSError:\n",
    "#     raise Exception(\"Question file does not exist.\")\n",
    "\n",
    "\"\"\" If true, then questions can be divided into a,b,c or i, ii, iii.\n",
    "    Question subdivision support can be added later. \n",
    "\"\"\"\n",
    "# if QUESTIONNUMBER > 10:\n",
    "#     SUBDIVISIONS = True\n",
    "# else:\n",
    "#     SUBDIVISIONS = False"
   ]
  },
  {
   "cell_type": "code",
   "execution_count": 50,
   "metadata": {},
   "outputs": [],
   "source": [
    "class QuestionType:\n",
    "    \"\"\"This class houses the different types of questions, and the prompts, that can be created by the program for each paper.\"\"\"\n",
    "    names = []\n",
    "\n",
    "    def __init__(self, name: str, systemPrompt: str, examplePrompt: str = None) -> None:\n",
    "        self.name = name\n",
    "        self.names.append(self.name)\n",
    "        self.systemPrompt = systemPrompt\n",
    "        self.examplePrompt = examplePrompt\n",
    "\n",
    "\n",
    "short = QuestionType(\n",
    "    \"short\", \"You must generate short questions that are clear to understand.\")\n",
    "long = QuestionType(\n",
    "    \"long\", \"You must generate long answer questions. Examples include comparing and contrasting two concepts.\")\n",
    "mcq = QuestionType(\n",
    "    \"mcq\", \"You must generate short multiple choice questions. Do not return the answers or options.\")\n",
    "\n",
    "if QUESTIONTYPE not in QuestionType.names:\n",
    "    raise Exception(\"Invalid question type.\")"
   ]
  },
  {
   "cell_type": "code",
   "execution_count": 45,
   "metadata": {},
   "outputs": [
    {
     "name": "stdout",
     "output_type": "stream",
     "text": [
      "Your job is to generate 5 questions, in a list. Each question should be written as a string, and should be separated by one new line character \\n each. Questions should not be numbered. Each question will be weighted equally, at 20 marks each. \n",
      "You must generate short questions that are clear to understand.\n",
      "Please generate the questions from these notes: \n",
      " A distributed system is a collection of autonomous computers linked by a network, with software to produce an integrated computing infrastructure. \n",
      "It is a set of discrete computers that perform a computation together, as if they were a single computing system, as a network of processes, which interact with one another to achieve a goal. These systems are required for processes like resource sharing, computation speed up via parallelism, and fault tolerance and uncertainty management. \n",
      "Information is processed data; data that is organised, meaningful + useful. Security is when you prevent unauthorised access to information + services, and how to maintain availability of information + services to authorised users. Distributed systems rely on interprocess communications, which involve networking layers. \n",
      "The TCP protocol implements a reliable end-to-end communication. Middleware helps application authors write software that is intended to run on more than one machine at a time. An example would be the Java RMI. \n",
      "A model is a simple abstraction that preserves the essential features but hides the implementation details. \n",
      "\n"
     ]
    }
   ],
   "source": [
    "\"\"\" The system prompt should be designed to use few-shot learning in order to generate the most accurate questions for the source material. \"\"\"\n",
    "\n",
    "\n",
    "SYSTEMPROMPT = f\"Your job is to generate {QUESTIONNUMBER} questions, in a list. Each question should be written as a string, and should be separated by one new line character \\\\n each. Questions should not be numbered. \\n\"\n",
    "\n",
    "if QUESTIONTYPE == \"short\":\n",
    "    SYSTEMPROMPT += \"You must generate short questions that are clear to understand.\"\n",
    "elif QUESTIONTYPE == \"long\":\n",
    "    SYSTEMPROMPT += \"You must generate long answer questions. Examples include comparing and contrasting two concepts.\"\n",
    "elif QUESTIONTYPE == \"mcq\":\n",
    "    MCQOPTIONS = 4\n",
    "    SYSTEMPROMPT += f\"You must generate short multiple choice questions. Do not return the answers or options.\"\n",
    "else:\n",
    "    raise Exception(\"Question type is invalid.\")\n",
    "\n",
    "\"\"\"Adding notes specified by user.\"\"\"\n",
    "# if EXAMPLEQUESTIONS != \"\":\n",
    "#     SYSTEMPROMPT += f\"You must generate questions with a similar structure and form to the questions below: \\n {EXAMPLEQUESTIONS}\"\n",
    "SYSTEMPROMPT += f\"\\nPlease generate the questions from these notes: \\n {NOTES} \\n\"\n",
    "print(SYSTEMPROMPT)"
   ]
  },
  {
   "cell_type": "code",
   "execution_count": 47,
   "metadata": {},
   "outputs": [
    {
     "name": "stdout",
     "output_type": "stream",
     "text": [
      " \n",
      "W\n",
      "I\n",
      "H\n",
      "C\n"
     ]
    }
   ],
   "source": [
    "generation = ollama.generate(model=MODELNAME, prompt=SYSTEMPROMPT)\n",
    "# print(generation[\"response\"])\n",
    "generated_questions = [question.replace(\n",
    "    \"\\\"\", \"\") for question in generation[\"response\"].split(\"\\\\n\")]\n",
    "# Filter out the blank spaces.\n",
    "generated_questions = [question for question in generated_questions if question != \"\"]\n",
    "\n",
    "for q in generated_questions:\n",
    "  print(q)\n",
    "\n",
    "\n",
    "if len(generated_questions) != QUESTIONNUMBER:\n",
    "  raise Exception(f\"Problem with generated question amount: expected {QUESTIONNUMBER}, got {len(generated_questions)}\")\n",
    " \n",
    "\n",
    "# questionChoicesDict = {}\n",
    "# for question in generated_questions:\n",
    "#   CHOICEPROMPT = f\"Given a question {question}, please generate short {MCQOPTIONS} options, in which {MCQOPTIONS - 1} is incorrect. Output all the options as comma separated strings. Each option should be comma separated. Use the notes {NOTES}. Do not output anything apart from the options.  \"\n",
    "#   generateChoices = ollama.generate(model=MODELNAME, prompt=CHOICEPROMPT)\n",
    "#   questionChoicesDict[question] = generateChoices[\"response\"]\n",
    "#   print(generateChoices[\"response\"])"
   ]
  },
  {
   "cell_type": "code",
   "execution_count": null,
   "metadata": {},
   "outputs": [],
   "source": [
    "\"\"\" Add generated questions to a tex file.\"\"\"\n",
    "try:\n",
    "  with open(\"questions.tex\", \"w\") as my_file:\n",
    "      \n",
    "      if QUESTIONTYPE == \"mcq\":   \n",
    "        # my_file.write(\"\\\\begin{parts}\\n\")\n",
    "        for question in generated_questions:  \n",
    "          my_file.write(\n",
    "              f\"\\\\question[{TOTALMARKS // QUESTIONNUMBER}] {question} \\n\")\n",
    "          my_file.write(\"\\\\begin{checkboxes} \\n\")\n",
    "          # [my_file.write(\"\\\\choice {choices}\") for choice in choices]\n",
    "          my_file.write(\"\\\\end{checkboxes} \\n\")\n",
    "          # my_file.write(f\"\\n\")\n",
    "        # my_file.write(\"\\\\end{parts}\")\n",
    "except OSError:\n",
    "   raise Exception(\"questions.tex does not exist and cannot be written to.\")"
   ]
  }
 ],
 "metadata": {
  "kernelspec": {
   "display_name": "lmpc",
   "language": "python",
   "name": "python3"
  },
  "language_info": {
   "codemirror_mode": {
    "name": "ipython",
    "version": 3
   },
   "file_extension": ".py",
   "mimetype": "text/x-python",
   "name": "python",
   "nbconvert_exporter": "python",
   "pygments_lexer": "ipython3",
   "version": "3.12.3"
  }
 },
 "nbformat": 4,
 "nbformat_minor": 2
}

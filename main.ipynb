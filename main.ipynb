{
 "cells": [
  {
   "cell_type": "markdown",
   "metadata": {},
   "source": [
    "To run this project, `ollama` must be installed. This is a package that allows for LLM usage, easily. \n",
    "\n",
    "The `ollama` server can be run using `ollama serve`, for testing purposes. "
   ]
  },
  {
   "cell_type": "code",
   "execution_count": 18,
   "metadata": {},
   "outputs": [],
   "source": [
    "import ollama\n"
   ]
  },
  {
   "cell_type": "code",
   "execution_count": 64,
   "metadata": {},
   "outputs": [
    {
     "name": "stdout",
     "output_type": "stream",
     "text": [
      "Your job is to generate 5 questions, in a list. Each question should be written as a string, and should be separated by commas. Each question will be weighted equally, at 20 marks each. \n",
      "You must generate short multiple choice questions. Do not return the answers or options.\n",
      "Please generate the questions from these notes: \n",
      " A distributed system is a collection of autonomous computers linked by a network, with software to produce an integrated computing infrastructure. It is a set of discrete computers that perform a computation together, as if they were a single computing system, as a network of processes, which interact with one another to achieve a goal. These systems are required for processes like resource sharing, computation speed up via parallelism, and fault tolerance and uncertainty management. Information is processed data; data that is organised, meaningful + useful. Security is when you prevent unauthorised access to information + services, and how to maintain availability of information + services to authorised users. Distributed systems rely on interprocess communications, which involve networking layers. The TCP protocol implements a reliable end-to-end communication. Middleware helps application authors write software that is intended to run on more than one machine at a time. An example would be the Java RMI. A model is a simple abstraction that preserves the essential features but hides the implementation details. \n",
      "\n"
     ]
    }
   ],
   "source": [
    "NOTES = \"A distributed system is a collection of autonomous computers linked by a network, with software to produce an integrated computing infrastructure. It is a set of discrete computers that perform a computation together, as if they were a single computing system, as a network of processes, which interact with one another to achieve a goal. These systems are required for processes like resource sharing, computation speed up via parallelism, and fault tolerance and uncertainty management. Information is processed data; data that is organised, meaningful + useful. Security is when you prevent unauthorised access to information + services, and how to maintain availability of information + services to authorised users. Distributed systems rely on interprocess communications, which involve networking layers. The TCP protocol implements a reliable end-to-end communication. Middleware helps application authors write software that is intended to run on more than one machine at a time. An example would be the Java RMI. A model is a simple abstraction that preserves the essential features but hides the implementation details.\"\n",
    "\n",
    "MODELNAME = \"phi3:mini\"\n",
    "\n",
    "QUESTIONNUMBER = 5\n",
    "\n",
    "if QUESTIONNUMBER > 5 or QUESTIONNUMBER < 2:\n",
    "    raise Exception(\"Question amount not suitable.\")\n",
    "\n",
    "TOTALMARKS = 100\n",
    "\n",
    "if TOTALMARKS // QUESTIONNUMBER < 1:\n",
    "    raise Exception(\"Number of marks is too low.\")\n",
    "\n",
    "QUESTIONTYPE = \"mcq\"\n",
    "\"\"\" This can differ between short, long and mcq.\"\"\"\n",
    "\n",
    "\n",
    "EXAMPLEQUESTIONS = \"\"\n",
    "\n",
    "if QUESTIONNUMBER > 10:\n",
    "    SUBDIVISIONS = True\n",
    "else:\n",
    "    SUBDIVISIONS = False\n",
    "\"\"\" If true, then questions can be divided into a,b,c or i, ii, iii.\"\"\"\n",
    "\n",
    "\n",
    "SYSTEMPROMPT = f\"Your job is to generate {QUESTIONNUMBER} questions, in a list. Each question should be written as a string, and should be separated by commas. Each question will be weighted equally, at {TOTALMARKS // QUESTIONNUMBER} marks each. \\n\"\n",
    "\n",
    "if EXAMPLEQUESTIONS != \"\":\n",
    "    SYSTEMPROMPT += f\"You must generate questions like {EXAMPLEQUESTIONS}.\"\n",
    "\n",
    "if QUESTIONTYPE == \"short\":\n",
    "    SYSTEMPROMPT += \"You must generate short questions that are clear to understand.\"\n",
    "elif QUESTIONTYPE == \"long\":\n",
    "    SYSTEMPROMPT += \"You must generate long answer questions. Examples include comparing and contrasting two concepts.\"\n",
    "elif QUESTIONTYPE == \"mcq\":\n",
    "    MCQOPTIONS = 4\n",
    "    # SYSTEMPROMPT += f\"You must generate multiple choice questions. Generate {MCQ_OPTIONS} different options, with {MCQ_OPTIONS - 1} options being very similar to the correct answer. Put all the options into an array. Designate the correct answer as a dictionary attribute.\"\n",
    "    SYSTEMPROMPT += f\"You must generate short multiple choice questions. Do not return the answers or options.\"\n",
    "else:\n",
    "    raise Exception(\"Question type is invalid.\")\n",
    "\n",
    "\"\"\"Adding notes specified by user.\"\"\"\n",
    "SYSTEMPROMPT += f\"\\nPlease generate the questions from these notes: \\n {NOTES} \\n\"\n",
    "print(SYSTEMPROMPT)"
   ]
  },
  {
   "cell_type": "code",
   "execution_count": 65,
   "metadata": {},
   "outputs": [
    {
     "name": "stdout",
     "output_type": "stream",
     "text": [
      " \"What is the primary purpose of distributed systems in computing?\", \"How does middleware like Java RMI facilitate software execution across multiple machines?\", \"Which network protocol ensures reliable end-to-end communication within distributed systems?\", \"Name one advantage and one disadvantage of utilizing parallelism in a distributed system.\", \"Explain the role of interprocess communications in maintaining security and availability in distributed systems.\"\n",
      "[' \"What is the primary purpose of distributed systems in computing?\"', ' \"How does middleware like Java RMI facilitate software execution across multiple machines?\"', ' \"Which network protocol ensures reliable end-to-end communication within distributed systems?\"', ' \"Name one advantage and one disadvantage of utilizing parallelism in a distributed system.\"', ' \"Explain the role of interprocess communications in maintaining security and availability in distributed systems.\"']\n"
     ]
    }
   ],
   "source": [
    "generation = ollama.generate(model=MODELNAME, prompt=SYSTEMPROMPT)\n",
    "print(generation[\"response\"])\n",
    "generated_questions = generation[\"response\"].split(\",\")\n",
    "print(generated_questions)"
   ]
  }
 ],
 "metadata": {
  "kernelspec": {
   "display_name": "lmpc",
   "language": "python",
   "name": "python3"
  },
  "language_info": {
   "codemirror_mode": {
    "name": "ipython",
    "version": 3
   },
   "file_extension": ".py",
   "mimetype": "text/x-python",
   "name": "python",
   "nbconvert_exporter": "python",
   "pygments_lexer": "ipython3",
   "version": "3.12.3"
  }
 },
 "nbformat": 4,
 "nbformat_minor": 2
}

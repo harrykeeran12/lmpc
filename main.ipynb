{
 "cells": [
  {
   "cell_type": "markdown",
   "metadata": {},
   "source": [
    "To run this project, `ollama` must be installed. This is a package that allows for LLM usage, easily. \n",
    "\n",
    "The `ollama` server can be run using `ollama serve`, for testing purposes. "
   ]
  },
  {
   "cell_type": "code",
   "execution_count": 70,
   "metadata": {},
   "outputs": [
    {
     "name": "stdout",
     "output_type": "stream",
     "text": [
      "Installed models on local ollama instance:\n",
      "phi3:mini\n"
     ]
    }
   ],
   "source": [
    "import ollama\n",
    "# Check if models are installed or not.\n",
    "try:\n",
    "    print(\"Installed models on local ollama instance:\")\n",
    "    # print(ollama.list())\n",
    "    INSTALLEDMODELS = []\n",
    "    for modelName in ollama.list()[\"models\"]:\n",
    "        print(modelName[\"name\"])\n",
    "        INSTALLEDMODELS.append(modelName[\"name\"])\n",
    "except:\n",
    "    raise Exception(\"ollama server is not online. \\nUse ollama serve to run the ollama daemon.\")"
   ]
  },
  {
   "cell_type": "markdown",
   "metadata": {},
   "source": [
    "Papers generated use any notes included in the `NOTEFILE`. "
   ]
  },
  {
   "cell_type": "code",
   "execution_count": 94,
   "metadata": {},
   "outputs": [
    {
     "data": {
      "text/plain": [
       "' If true, then questions can be divided into a,b,c or i, ii, iii.\\n    Question subdivision support can be added later. \\n'"
      ]
     },
     "execution_count": 94,
     "metadata": {},
     "output_type": "execute_result"
    }
   ],
   "source": [
    "\"\"\"Check defaults and make sure there are no exceptions. \"\"\"\n",
    "\n",
    "MODELNAME = \"phi3:mini\"\n",
    "\n",
    "if MODELNAME not in INSTALLEDMODELS:\n",
    "    raise Exception(f\"Model name {MODELNAME} not in installed models.\")\n",
    "\n",
    "NOTEFILE = \"notes.txt\"\n",
    "\n",
    "try:\n",
    "    with open(NOTEFILE, \"r\") as my_file:\n",
    "        NOTES = \"\".join(my_file.readlines())\n",
    "except FileNotFoundError:\n",
    "    raise Exception(f\"Could not find {NOTEFILE}.\")\n",
    "\n",
    "\n",
    "QUESTIONNUMBER = 5\n",
    "\n",
    "if QUESTIONNUMBER > 5 or QUESTIONNUMBER < 2:\n",
    "    raise Exception(\"Question amount not suitable.\")\n",
    "\n",
    "TOTALMARKS = 100\n",
    "\n",
    "if TOTALMARKS // QUESTIONNUMBER < 1:\n",
    "    raise Exception(\"Number of marks is too low.\")\n",
    "\n",
    "QUESTIONTYPE = \"mcq\"\n",
    "\"\"\" This can differ between short, long and mcq.\"\"\"\n",
    "\n",
    "# try:\n",
    "#     with open(\"exampleQuestions.txt\", \"r\") as QUESTIONSFILE:\n",
    "#         EXAMPLEQUESTIONS = \"\".join(QUESTIONSFILE.readlines())\n",
    "# except OSError:\n",
    "#     raise Exception(\"Question file does not exist.\")\n",
    "\n",
    "\"\"\" If true, then questions can be divided into a,b,c or i, ii, iii.\n",
    "    Question subdivision support can be added later. \n",
    "\"\"\"\n",
    "# if QUESTIONNUMBER > 10:\n",
    "#     SUBDIVISIONS = True\n",
    "# else:\n",
    "#     SUBDIVISIONS = False\n",
    "\n"
   ]
  },
  {
   "cell_type": "code",
   "execution_count": 110,
   "metadata": {},
   "outputs": [],
   "source": [
    "class QuestionType:\n",
    "    \"\"\"This class houses the different types of questions, and the prompts, that can be created by the program for each paper.\n",
    "    Parameters:\n",
    "    name: str - the name of the question type.\n",
    "    systemPrompt: str - the initial prompt that should be added to generate the questions.\n",
    "    examplePrompt: str - any example questions that would aid in generation. \n",
    "    \"\"\"\n",
    "\n",
    "    def __init__(self, name: str, systemPrompt: str, examplePrompt: str = None) -> None:\n",
    "        self.name = name\n",
    "        self.systemPrompt = systemPrompt\n",
    "        self.examplePrompt = examplePrompt\n",
    "\n",
    "\n",
    "short = QuestionType(\n",
    "    \"short\", \"You must generate short questions that are clear to understand.\")\n",
    "long = QuestionType(\n",
    "    \"long\", \"You must generate long answer questions. Examples include essay questions.\")\n",
    "mcq = QuestionType(\n",
    "    \"mcq\", \"You must generate short multiple choice questions that can be answered using one sentence. These should be able to be answered efficiently. Do not return the answers or options.\", )\n",
    "ALLQUESTIONTYPES = {}\n",
    "\n",
    "ALLQUESTIONTYPES[short.name] = short\n",
    "ALLQUESTIONTYPES[long.name] = long\n",
    "ALLQUESTIONTYPES[mcq.name] = mcq\n",
    "\n",
    "\n",
    "if QUESTIONTYPE not in ALLQUESTIONTYPES.keys():\n",
    "    raise Exception(\"Invalid question type.\")"
   ]
  },
  {
   "cell_type": "code",
   "execution_count": 111,
   "metadata": {},
   "outputs": [
    {
     "name": "stdout",
     "output_type": "stream",
     "text": [
      "Your job is to generate 5 questions, in a list. Each question should be written as a string, and should be separated by one new line character \\n each. Questions should not be numbered. \n",
      "For example, for 4 questions about famous authors would be generated as\n",
      " \"Which author beginning with the letter M contributed the most to American literary fiction?\"\\n\"When was this author born?\"\\n\"Which famous comet was associated with this author?\"\\n\"Did this author have a pen-name?\"\n",
      "You must generate short multiple choice questions that can be answered using one sentence. These should be able to be answered efficiently. Do not return the answers or options.\n",
      "Please generate the questions from these notes: \n",
      " A distributed system is a collection of autonomous computers linked by a network, with software to produce an integrated computing infrastructure. \n",
      "It is a set of discrete computers that perform a computation together, as if they were a single computing system, as a network of processes, which interact with one another to achieve a goal. These systems are required for processes like resource sharing, computation speed up via parallelism, and fault tolerance and uncertainty management. \n",
      "Information is processed data; data that is organised, meaningful + useful. Security is when you prevent unauthorised access to information + services, and how to maintain availability of information + services to authorised users. Distributed systems rely on interprocess communications, which involve networking layers. \n",
      "The TCP protocol implements a reliable end-to-end communication. Middleware helps application authors write software that is intended to run on more than one machine at a time. An example would be the Java RMI. \n",
      "A model is a simple abstraction that preserves the essential features but hides the implementation details. \n",
      "\n"
     ]
    }
   ],
   "source": [
    "\"\"\" The system prompt should be designed to use few-shot learning in order to generate the most accurate questions for the source material. \"\"\"\n",
    "\n",
    "\n",
    "SYSTEMPROMPT = f\"Your job is to generate {QUESTIONNUMBER} questions, in a list. Each question should be written as a string, and should be separated by one new line character \\\\n each. Questions should not be numbered. \\nFor example, for 4 questions about famous authors would be generated as\\n \\\"Which author beginning with the letter M contributed the most to American literary fiction?\\\"\\\\n\\\"When was this author born?\\\"\\\\n\\\"Which famous comet was associated with this author?\\\"\\\\n\\\"Did this author have a pen-name?\\\"\\n\"\n",
    "\n",
    "if ALLQUESTIONTYPES[QUESTIONTYPE].examplePrompt != None:\n",
    "  SYSTEMPROMPT += ALLQUESTIONTYPES[QUESTIONTYPE].systemPrompt + ALLQUESTIONTYPES[QUESTIONTYPE].examplePrompt\n",
    "else:\n",
    "  SYSTEMPROMPT += ALLQUESTIONTYPES[QUESTIONTYPE].systemPrompt\n",
    "\n",
    "\"\"\"Adding notes specified by user.\"\"\"\n",
    "# if EXAMPLEQUESTIONS != \"\":\n",
    "#     SYSTEMPROMPT += f\"You must generate questions with a similar structure and form to the questions below: \\n {EXAMPLEQUESTIONS}\"\n",
    "SYSTEMPROMPT += f\"\\nPlease generate the questions from these notes: \\n {NOTES} \\n\"\n",
    "print(SYSTEMPROMPT)"
   ]
  },
  {
   "cell_type": "code",
   "execution_count": 112,
   "metadata": {},
   "outputs": [
    {
     "name": "stdout",
     "output_type": "stream",
     "text": [
      "['What is the primary purpose of a distributed system?', 'Which networking layer does interprocess communication rely on in distributed systems?', 'Name one protocol used for reliable end-to-end communication in distributed systems.', 'What role do middleware technologies like Java RMI play in distributed computing?', \"Define the term 'model' as it relates to system abstractions and implementation details.\"]\n",
      "Question [1] What is the primary purpose of a distributed system?\n",
      "Question [2] Which networking layer does interprocess communication rely on in distributed systems?\n",
      "Question [3] Name one protocol used for reliable end-to-end communication in distributed systems.\n",
      "Question [4] What role do middleware technologies like Java RMI play in distributed computing?\n",
      "Question [5] Define the term 'model' as it relates to system abstractions and implementation details.\n"
     ]
    }
   ],
   "source": [
    "generation = ollama.generate(model=MODELNAME, prompt=SYSTEMPROMPT)\n",
    "# print(generation[\"response\"])\n",
    "generated_questions = [question.replace(\n",
    "    \"\\\"\", \"\") for question in generation[\"response\"].split(\"\\\\n\")]\n",
    "# Filter out the blank spaces.\n",
    "generated_questions = [question.strip() for question in generated_questions if question != \"\"]\n",
    "\n",
    "# print(generated_questions)\n",
    "for q in range(len(generated_questions)):\n",
    "  print(f\"Question [{q+1}] {generated_questions[q]}\")\n",
    "\n",
    "\n",
    "if len(generated_questions) != QUESTIONNUMBER:\n",
    "  raise Exception(f\"Problem with generated question amount: expected {QUESTIONNUMBER}, got {len(generated_questions)}\")\n",
    " \n",
    "\n",
    "# questionChoicesDict = {}\n",
    "# for question in generated_questions:\n",
    "#   CHOICEPROMPT = f\"Given a question {question}, please generate short {MCQOPTIONS} options, in which {MCQOPTIONS - 1} is incorrect. Output all the options as comma separated strings. Each option should be comma separated. Use the notes {NOTES}. Do not output anything apart from the options.  \"\n",
    "#   generateChoices = ollama.generate(model=MODELNAME, prompt=CHOICEPROMPT)\n",
    "#   questionChoicesDict[question] = generateChoices[\"response\"]\n",
    "#   print(generateChoices[\"response\"])"
   ]
  },
  {
   "cell_type": "code",
   "execution_count": 121,
   "metadata": {},
   "outputs": [
    {
     "name": "stdout",
     "output_type": "stream",
     "text": [
      "What is the primary purpose of a distributed system?\n",
      "[' Enable resource sharing and scalability.']\n",
      "[' Collaborative Integration and Elasticity Expansion\\nDynamic Resource Allocation Networks\\nInterconnected Infrastructure Adaptability']\n",
      "Which networking layer does interprocess communication rely on in distributed systems?\n",
      "[' Application layer typically handles interprocess communication in distributed systems.']\n",
      "[' File System Management', 'Data Serialization and Deserialization', 'Distributed Resource Allocation Mechanisms\"']\n",
      "Name one protocol used for reliable end-to-end communication in distributed systems.\n",
      "[' TCP (Transmission Control Protocol)']\n",
      "[\" 1. User Datagram Protocol (UDP): A simpler and connectionless protocol, UDP sacrifices reliability features of TCP for faster data transmission. It's widely used in real-time applications like VoIP or online gaming where occasional packet loss is acceptable.\\n\\n2. Stream Control Transmission Protocol (SCTP): SCTP is a transport layer protocol that provides reliable, message-oriented communication between two hosts on IP networks. Unlike TCP's byte stream model, SCTP offers multiple streams of data within a single connection and supports multi-homing for higher availability.\\n\\n3. Datagram Congestion Control Protocol (DCCP): DCCP is designed to handle both reliable delivery of messages and congestion control in datagram networks like the Internet. It operates over UDP, aiming at applications that require a balance between reliability and low-latency data transfer.\"]\n",
      "What role do middleware technologies like Java RMI play in distributed computing?\n",
      "[' Facilitates communication and interaction between distributed systems.']\n",
      "[' Interconnects distributed networks seamlessly  \\nIntegrates disparate systems into a cohesive framework  \\nEnables synchronized operation across geographically separated infrastructures']\n",
      "Define the term 'model' as it relates to system abstractions and implementation details.\n",
      "[' Simplified representation of reality\\nanswer=Simplified representation']\n",
      "[' 1. Abbreviated Essence of Reality:\\n   - New York, Los Angeles, Chicago (NYC, LA, CHI)\\n   \\n   This concept captures major urban centers with their common abbreviations, providing a simplified yet recognizable depiction of the diverse geographical landscape without delving into detailed specifics.\\n\\n\\n2. Visualized Concept Summary:\\n   - Rainforest, Desert, Ocean (RF, DS, OC)\\n   \\n   Here, natural environments are represented through their most characteristic features in a simplified form that captures the essence of each ecosystem without complex details.\\n\\n\\n3. Metaphorical Distillation:\\n   - Democracy, Monarchy, Anarchy (DM, MA, A)\\n   \\n   This concept offers a high-level view of different governance systems using single-letter symbols to convey the core idea behind each political structure while leaving out nuanced variations and historical contexts.']\n"
     ]
    }
   ],
   "source": [
    "if QUESTIONTYPE == 'mcq':\n",
    "  \"\"\" Generate choices for each question.\"\"\"\n",
    "  MCQOPTIONS = 4\n",
    "  QUESTIONDICT = {}\n",
    "  for question in generated_questions:\n",
    "    CHOICEPROMPT = f\"Generate a short correct answer, that is less than 10 words, to the question {question}. This answer should be summarised and should not include any notes or formatting. \\nFor example: for the question \\\"What is the capital of England?\\\" the output would be \\\"London\\\". \\nFor example: for the question \\\"How many seas are there in the world\\\" the output would be \\\"7\\\". \\nFor example: for the question \\\"What is an example of a JavaScript framework?\\\" the output would be \\\"React.js\\\"\"\n",
    "    # CHOICEPROMPT = f\"Please generate {MCQOPTIONS} different multiple choice answers for the question {question}. Each choice must be separated by a new line character \\\\n. \\nFor example, for the question: What is the capital of Germany? \\n The output should be: Cologne\\\\nFrankfurt\\\\nBerlin\\\\nHamburg. \\nFor the question: How many moons does Earth have? The output could be: 1\\\\n2\\\\n4\\\\n3. Each choice should not be in a numbered list.\"\n",
    "    # CHOICEPROMPT += f\"Whenever possible, take the answer from the notes \\n{NOTES}\\n, but the answer should not be vague. \"\n",
    "    correctChoiceGeneration = ollama.generate(\n",
    "        model=MODELNAME, prompt=CHOICEPROMPT)\n",
    "    choiceList = [choice.replace(\n",
    "        \"\\\"\", \"\") for choice in correctChoiceGeneration[\"response\"].split(\"\\\\n\") if choice != \"\"]\n",
    "    QUESTIONDICT[str(question)] = choiceList\n",
    "    print(question)\n",
    "    print(choiceList)\n",
    "    incorrectPrompt = f\"Generate {MCQOPTIONS - 1} options, that are similar but not the same as {choiceList[0]}. \\nFor example: for an option London, the output would be \\\"Edinburgh\\\\nGlasgow\\\\nAberdeen\\\\Leeds\\\". \\nFor example: for an option \\\"7\\\" the output would be \\\"4\\\\n6\\\\n2\\\\n9\\\". \\n\"\n",
    "    incorrectChoiceGeneration = ollama.generate(\n",
    "        model=MODELNAME, prompt=incorrectPrompt)\n",
    "    print(incorrectChoiceGeneration[\"response\"].split(\"\\\\n\"))\n",
    "    \n",
    "  \n",
    "  "
   ]
  },
  {
   "cell_type": "code",
   "execution_count": null,
   "metadata": {},
   "outputs": [],
   "source": [
    "\"\"\" Add generated questions to a tex file.\"\"\"\n",
    "try:\n",
    "  with open(\"questions.tex\", \"w\") as my_file:\n",
    "      \n",
    "      if QUESTIONTYPE == \"mcq\":   \n",
    "        # my_file.write(\"\\\\begin{parts}\\n\")\n",
    "        for question in generated_questions:  \n",
    "          my_file.write(\n",
    "              f\"\\\\question[{TOTALMARKS // QUESTIONNUMBER}] {question} \\n\")\n",
    "          my_file.write(\"\\\\begin{checkboxes} \\n\")\n",
    "          # [my_file.write(\"\\\\choice {choices}\") for choice in choices]\n",
    "          my_file.write(\"\\\\end{checkboxes} \\n\")\n",
    "          # my_file.write(f\"\\n\")\n",
    "        # my_file.write(\"\\\\end{parts}\")\n",
    "except OSError:\n",
    "   raise Exception(\"questions.tex does not exist and cannot be written to.\")"
   ]
  }
 ],
 "metadata": {
  "kernelspec": {
   "display_name": "lmpc",
   "language": "python",
   "name": "python3"
  },
  "language_info": {
   "codemirror_mode": {
    "name": "ipython",
    "version": 3
   },
   "file_extension": ".py",
   "mimetype": "text/x-python",
   "name": "python",
   "nbconvert_exporter": "python",
   "pygments_lexer": "ipython3",
   "version": "3.12.3"
  }
 },
 "nbformat": 4,
 "nbformat_minor": 2
}
